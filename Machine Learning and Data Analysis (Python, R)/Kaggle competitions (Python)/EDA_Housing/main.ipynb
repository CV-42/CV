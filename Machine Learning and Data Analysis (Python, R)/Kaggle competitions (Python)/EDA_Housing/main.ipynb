{
 "cells": [
  {
   "cell_type": "code",
   "execution_count": 2,
   "metadata": {},
   "outputs": [],
   "source": [
    "import pandas as pd\n",
    "import sklearn as sk\n",
    "import numpy as np\n",
    "import importlib"
   ]
  },
  {
   "cell_type": "code",
   "execution_count": 3,
   "metadata": {},
   "outputs": [],
   "source": [
    "from sklearn.pipeline import Pipeline, make_pipeline\n",
    "from sklearn.model_selection import StratifiedKFold, GridSearchCV, cross_val_score, train_test_split\n",
    "from sklearn.metrics import mean_squared_error, root_mean_squared_error, make_scorer\n",
    "from sklearn.compose import TransformedTargetRegressor, make_column_transformer, make_column_selector\n",
    "from sklearn.preprocessing import FunctionTransformer, OneHotEncoder, LabelEncoder, OrdinalEncoder, FunctionTransformer, PolynomialFeatures, StandardScaler\n",
    "from sklearn.impute import SimpleImputer\n",
    "from sklearn.feature_selection import VarianceThreshold, SelectKBest"
   ]
  },
  {
   "cell_type": "code",
   "execution_count": 4,
   "metadata": {},
   "outputs": [],
   "source": [
    "from sklearn.ensemble import RandomForestClassifier, HistGradientBoostingRegressor, StackingRegressor, BaggingRegressor\n",
    "from sklearn.linear_model import LinearRegression, Ridge, Lasso\n",
    "from sklearn.neural_network import MLPRegressor\n",
    "from sklearn.svm import SVR"
   ]
  },
  {
   "cell_type": "markdown",
   "metadata": {},
   "source": [
    "## Load"
   ]
  },
  {
   "cell_type": "code",
   "execution_count": 5,
   "metadata": {},
   "outputs": [],
   "source": [
    "df = pd.read_csv(\"train.csv\")\n",
    "X = df.drop(columns = \"SalePrice\")\n",
    "y = df[\"SalePrice\"]"
   ]
  },
  {
   "cell_type": "markdown",
   "metadata": {},
   "source": [
    "## Preprocessors"
   ]
  },
  {
   "cell_type": "code",
   "execution_count": 6,
   "metadata": {},
   "outputs": [],
   "source": [
    "id_remover = make_column_transformer(\n",
    "    ('drop', make_column_selector(pattern='Id')),\n",
    "    remainder='passthrough',\n",
    "    verbose_feature_names_out=False\n",
    ").set_output(transform='pandas')\n",
    "\n",
    "imputer = make_column_transformer(\n",
    "    (SimpleImputer(strategy='median'), make_column_selector(dtype_exclude=['object', 'string'])),\n",
    "    (SimpleImputer(strategy='most_frequent'), make_column_selector(dtype_include=['object', 'string'])),\n",
    "    remainder='passthrough',\n",
    "    verbose_feature_names_out=False\n",
    ").set_output(transform='pandas')\n",
    "\n",
    "scaler_num = make_column_transformer(\n",
    "    (StandardScaler(), make_column_selector(dtype_include=np.number))\n",
    ").set_output(transform='pandas')\n",
    "\n",
    "oh_enc = make_column_transformer(\n",
    "    (OneHotEncoder(sparse_output=False, handle_unknown='ignore', drop='first', min_frequency=1),\n",
    "     make_column_selector(dtype_include=['object','string'])),\n",
    "    remainder='passthrough',\n",
    "    verbose_feature_names_out=False\n",
    ").set_output(transform='pandas')\n",
    "\n",
    "# HistGradientBoosting can handle categorial data if it is really encoded as \"categorial\":\n",
    "import preprocessing_functions\n",
    "importlib.reload(preprocessing_functions)\n",
    "obj_to_cat = preprocessing_functions.ObjToCat()\n"
   ]
  },
  {
   "cell_type": "markdown",
   "metadata": {},
   "source": [
    "### Some fancy imputers and encoders.\n",
    "(Do not seem to improve the score.. Well, the HistGradientBooster has native handling of missing values. Maybe the bigger problem is the overfitting.)\n",
    "\n",
    "(Missing Values can be explored with the missingno package. But I removed it from here for brevity.)"
   ]
  },
  {
   "cell_type": "code",
   "execution_count": 7,
   "metadata": {},
   "outputs": [],
   "source": [
    "# maybe, double the size would mean more than double the price.. maybe squared??\n",
    "# Seems to be unimportant to HistGradientBoost, beause it is a monotonic transformation?\n",
    "area_poly = make_column_transformer(\n",
    "    (PolynomialFeatures(include_bias=False, degree=(1,2)),\n",
    "     make_column_selector(pattern='LotArea')),\n",
    "    remainder='passthrough',\n",
    "    verbose_feature_names_out = False\n",
    ").set_output(transform='pandas')\n",
    "\n",
    "# Introduce Interaction Term of LotArea|MSZoning, because the area price may be different in different categories..\n",
    "# Is not so important for HistGradientBoost, but doesn't improve a linear model either..\n",
    "inter_enc = make_column_transformer(\n",
    "    (\n",
    "        make_pipeline(\n",
    "            make_column_transformer(\n",
    "                (\n",
    "                    OneHotEncoder(drop='first', handle_unknown='ignore', sparse_output=False),\n",
    "                    make_column_selector(pattern='MSZoning')\n",
    "                ),\n",
    "                remainder='passthrough',\n",
    "                verbose_feature_names_out=False\n",
    "            ).set_output(transform='pandas'),\n",
    "            PolynomialFeatures(degree=(2,2), interaction_only=True, include_bias=False),\n",
    "            VarianceThreshold()\n",
    "        ),\n",
    "        make_column_selector(pattern='LotArea|MSZoning')\n",
    "    ),\n",
    "    ('passthrough', make_column_selector(pattern='LotArea|MSZoning')),\n",
    "    remainder='passthrough',\n",
    "    verbose_feature_names_out=False\n",
    ").set_output(transform='pandas')\n",
    "\n",
    "# columns \"Condition1\" and \"Condition2\" share their meaning --> reflect this in a single one-hot-encoding\n",
    "from sklearn.base import BaseEstimator, TransformerMixin\n",
    "class CondEnc(BaseEstimator, TransformerMixin):\n",
    "    ### only works to one-hot-encode \"Condition1\" and \"Condition2\"\n",
    "    def __init__(self):\n",
    "        self.cols = pd.Series([])\n",
    "        self.cats = np.array([], dtype=str)\n",
    "        self.ohe = OneHotEncoder(sparse_output=False, handle_unknown='ignore').set_output(transform='pandas')\n",
    "    def fit(self, X, y=None):\n",
    "        self.ohe.fit(X)\n",
    "        self.cols = pd.Series(self.ohe.transform(X).columns)\n",
    "        self.cats = self.cols.apply(lambda col: col[11:]) # Remove 'Condition1_' and 'Condition2_' from column names\n",
    "        self.cats = self.cats.unique()\n",
    "        return self\n",
    "    def transform(self, X):\n",
    "        X_new = self.ohe.transform(X.copy())\n",
    "        l = []\n",
    "        for cat in self.cats:\n",
    "            ll = []\n",
    "            if 'Condition1_'+cat in list(self.cols): # \"in\"-opeator does not work as desired with pd.Series --> list()\n",
    "                ll.append(np.array(X_new['Condition1_'+cat]))\n",
    "            if 'Condition2_'+cat in list(self.cols):\n",
    "                ll.append(np.array(X_new['Condition2_'+cat]))\n",
    "            if len(ll)==2:\n",
    "                l.append(pd.DataFrame(np.maximum(ll[0], ll[1]), columns=['Condition_'+cat], index=X.index))\n",
    "            else:\n",
    "                l.append(pd.DataFrame(ll[0], columns=['Condition_'+cat], index=X.index))\n",
    "        return pd.concat(l, axis=1)\n",
    "    def get_feature_names_out(self, input_features=None):\n",
    "        return [f'Condition_{cat}' for cat in self.cats]\n",
    "cond_enc = make_column_transformer(\n",
    "    (CondEnc(), make_column_selector(pattern='Condition1|Condition2')),\n",
    "    remainder='passthrough',\n",
    "    verbose_feature_names_out=False\n",
    ").set_output(transform='pandas')\n",
    "\n",
    "# The documentation says some stuff about missing values.\n",
    "# The following imputers reflect this:\n",
    "\n",
    "alley_imp = make_column_transformer(\n",
    "    (SimpleImputer(strategy='constant', fill_value='None'), make_column_selector(pattern='Alley')),\n",
    "    remainder='passthrough',\n",
    "    verbose_feature_names_out=False\n",
    ").set_output(transform='pandas')\n",
    "\n",
    "masvnr_imp = make_column_transformer(\n",
    "    (SimpleImputer(strategy='constant', fill_value='None'), make_column_selector(pattern='MasVnrType')),\n",
    "    remainder='passthrough',\n",
    "    verbose_feature_names_out=False\n",
    ").set_output(transform='pandas')\n",
    "\n",
    "bsmt_imp = make_column_transformer(\n",
    "    (SimpleImputer(strategy='constant', fill_value='None'),\n",
    "     make_column_selector(pattern='BsmtQual|BsmtCond|BsmtExposure|BsmtFinType1|BsmtFinType2|BsmtFinSF2')),\n",
    "    remainder='passthrough',\n",
    "    verbose_feature_names_out=False\n",
    ").set_output(transform='pandas')\n",
    "\n",
    "from sklearn.experimental import enable_iterative_imputer\n",
    "from sklearn.impute import IterativeImputer\n",
    "from sklearn.neighbors import KNeighborsClassifier\n",
    "lotfrontage_imp= make_column_transformer(\n",
    "    (IterativeImputer(estimator=KNeighborsClassifier(n_neighbors=30)),\n",
    "     make_column_selector(pattern=\"LotArea|LotFrontage\")),\n",
    "    remainder='passthrough',\n",
    "    verbose_feature_names_out=False\n",
    ").set_output(transform='pandas')\n",
    "\n",
    "pool_fence_imp = make_column_transformer(\n",
    "    (SimpleImputer(strategy='constant', fill_value='None'),\n",
    "     make_column_selector(pattern='PoolQC|Fence')),\n",
    "    remainder='passthrough',\n",
    "    verbose_feature_names_out=False\n",
    ").set_output(transform='pandas')\n",
    "\n",
    "misc_imp = make_column_transformer(\n",
    "    (SimpleImputer(strategy='constant', fill_value=0),\n",
    "     make_column_selector(pattern='MiscVal')),\n",
    "    (SimpleImputer(strategy='constant', fill_value='None'),\n",
    "     make_column_selector(pattern='MiscFeature')),\n",
    "    remainder='passthrough',\n",
    "    verbose_feature_names_out=False\n",
    ").set_output(transform='pandas')\n",
    "\n",
    "garage_imp = make_column_transformer(\n",
    "    (SimpleImputer(strategy='constant', fill_value='None'),\n",
    "     make_column_selector(pattern='GarageType|GarageFinish|GarageQual|GarageCond')),\n",
    "    (SimpleImputer(strategy='constant', fill_value=0),\n",
    "     make_column_selector(pattern='GarageYrBlt|GarageCars|GarageArea')),\n",
    "    remainder='passthrough',\n",
    "    verbose_feature_names_out=False\n",
    ").set_output(transform='pandas')\n",
    "\n",
    "fire_imp = make_column_transformer(\n",
    "    (SimpleImputer(strategy='constant', fill_value='None'),\n",
    "     make_column_selector(pattern='FireplaceQu')),\n",
    "    remainder='passthrough',\n",
    "    verbose_feature_names_out=False\n",
    ").set_output(transform='pandas')\n",
    "\n",
    "\n",
    "# Collect all previous imputers into one:\n",
    "smart_imps = make_pipeline(fire_imp, alley_imp, masvnr_imp, bsmt_imp,\n",
    "                           lotfrontage_imp, pool_fence_imp, misc_imp, garage_imp)"
   ]
  },
  {
   "cell_type": "markdown",
   "metadata": {},
   "source": [
    "## Pipelines\n",
    "\n",
    "Tried quite a lot. Seems that the pure HistGraientBoost is the best.\n",
    "\n",
    "Pay attention, if choosing multiple pipes! The steps share objects (instances) for now. (No problem with cross_val_score, because of cloning inside that routine.)"
   ]
  },
  {
   "cell_type": "markdown",
   "metadata": {},
   "source": [
    "Ideas for improvement:\n",
    "- Linear models seem to get better with feature selection. But what is the best? (Lasso, SelectKBest, PCA, ...?) Also one could transform non-Gaussian input variables to be more Gaussian.\n",
    "- The HistGradientBoost seems to overfit a lot. One could use a grid search to tune more parameters. Or build a bagging regressor. But there seems to be a bug in sklearn's BaggingRegressor when used.\n",
    "- Grid Searches should be done with the scoring function which is also used in Kaggles evaluation."
   ]
  },
  {
   "cell_type": "code",
   "execution_count": 11,
   "metadata": {},
   "outputs": [],
   "source": [
    "# My favourite pipe:\n",
    "pipe15 = make_pipeline(id_remover, smart_imps, cond_enc, imputer, obj_to_cat,\n",
    "                      TransformedTargetRegressor(regressor=HistGradientBoostingRegressor(categorical_features=\"from_dtype\"),\n",
    "                                                 func=np.log, inverse_func=np.exp))\n",
    "# Other pipes, that I tried:\n",
    "pipe1 = make_pipeline(id_remover, imputer, oh_enc, LinearRegression())\n",
    "pipe2 = make_pipeline(id_remover, imputer, oh_enc, Ridge())\n",
    "pipe3 = make_pipeline(id_remover, imputer, oh_enc, Lasso())\n",
    "pipe4 = make_pipeline(\n",
    "    id_remover, imputer, oh_enc,\n",
    "    TransformedTargetRegressor(regressor=Ridge(), func=np.log, inverse_func=np.exp)\n",
    ")\n",
    "pipe5 = make_pipeline(id_remover, imputer, obj_to_cat,\n",
    "                      HistGradientBoostingRegressor(categorical_features=\"from_dtype\"))\n",
    "pipe6 = make_pipeline(id_remover, imputer, obj_to_cat,\n",
    "                      TransformedTargetRegressor(regressor=HistGradientBoostingRegressor(categorical_features=\"from_dtype\"),\n",
    "                                                 func=np.log, inverse_func=np.exp))\n",
    "pipe7 = make_pipeline(id_remover, area_poly, imputer, oh_enc, LinearRegression())\n",
    "pipe8 = make_pipeline(id_remover, area_poly, imputer, obj_to_cat,\n",
    "                      TransformedTargetRegressor(regressor=HistGradientBoostingRegressor(categorical_features=\"from_dtype\"),\n",
    "                                                 func=np.log, inverse_func=np.exp))\n",
    "pipe9 = make_pipeline(inter_enc, id_remover, area_poly, imputer, obj_to_cat,\n",
    "                      TransformedTargetRegressor(regressor=HistGradientBoostingRegressor(categorical_features=\"from_dtype\"),\n",
    "                                                 func=np.log, inverse_func=np.exp))\n",
    "pipe10 = make_pipeline(id_remover, inter_enc, imputer, oh_enc, LinearRegression())\n",
    "pipe11 = make_pipeline(id_remover, area_poly, imputer, obj_to_cat,\n",
    "                      HistGradientBoostingRegressor(categorical_features=\"from_dtype\"))\n",
    "pipe12 = make_pipeline(id_remover, imputer, oh_enc, SVR(kernel='linear'))\n",
    "pipe13 = StackingRegressor([('GB', pipe6), ('svr', pipe12)])\n",
    "pipe14 = make_pipeline(id_remover, imputer, scaler_num, oh_enc, MLPRegressor(hidden_layer_sizes=(200,100,50), activation='relu'))\n",
    "pipe16 = BaggingRegressor(estimator=pipe15, n_estimators=10) # Throws an error. Bug in \"BaggingRegressor\"?!\n",
    "pipe17 = make_pipeline(id_remover, smart_imps, cond_enc, imputer, obj_to_cat,\n",
    "                      TransformedTargetRegressor(regressor=HistGradientBoostingRegressor(categorical_features=\"from_dtype\",\n",
    "                                                                                         max_features=0.2),\n",
    "                                                 func=np.log, inverse_func=np.exp))\n",
    "pipe18 = make_pipeline(id_remover, smart_imps, cond_enc, imputer, oh_enc, Lasso(alpha=100))\n",
    "pipe19 = make_pipeline(id_remover, smart_imps, cond_enc, imputer, oh_enc, scaler_num,\n",
    "    VarianceThreshold(0.1), SelectKBest(k=70), Lasso(alpha=10))"
   ]
  },
  {
   "cell_type": "markdown",
   "metadata": {},
   "source": [
    "## Validate"
   ]
  },
  {
   "cell_type": "code",
   "execution_count": 9,
   "metadata": {},
   "outputs": [
    {
     "name": "stdout",
     "output_type": "stream",
     "text": [
      "Fit_Score: 0.9887590625353031,   Cv_Mean: 0.8911893068956163\n",
      "Fit_Score: 0.983430115001647,   Cv_Mean: 0.8905802431044648\n"
     ]
    }
   ],
   "source": [
    "def print_fit_cv(pipe):\n",
    "    pipe.fit(X,y)\n",
    "    fit_score = pipe.score(X,y)\n",
    "    cv = cross_val_score(pipe, X, y)\n",
    "    print(\"Fit_Score: {},   Cv_Mean: {}\".format(fit_score, cv.mean()))\n",
    "print_fit_cv(pipe15)\n",
    "print_fit_cv(pipe17)"
   ]
  },
  {
   "cell_type": "markdown",
   "metadata": {},
   "source": [
    "## Grid Search"
   ]
  },
  {
   "cell_type": "markdown",
   "metadata": {},
   "source": [
    "Here is one of the grid searches I ran:\n",
    "(parameter names can be found out with pipe.get_params())"
   ]
  },
  {
   "cell_type": "code",
   "execution_count": 13,
   "metadata": {},
   "outputs": [
    {
     "name": "stderr",
     "output_type": "stream",
     "text": [
      "c:\\Users\\User1\\anaconda3\\Lib\\site-packages\\sklearn\\feature_selection\\_univariate_selection.py:113: RuntimeWarning: divide by zero encountered in divide\n",
      "  f = msb / msw\n",
      "c:\\Users\\User1\\anaconda3\\Lib\\site-packages\\sklearn\\preprocessing\\_encoders.py:241: UserWarning: Found unknown categories in columns [12, 27, 31, 36] during transform. These unknown categories will be encoded as all zeros\n",
      "  warnings.warn(\n",
      "c:\\Users\\User1\\anaconda3\\Lib\\site-packages\\sklearn\\feature_selection\\_univariate_selection.py:113: RuntimeWarning: divide by zero encountered in divide\n",
      "  f = msb / msw\n",
      "c:\\Users\\User1\\anaconda3\\Lib\\site-packages\\sklearn\\preprocessing\\_encoders.py:241: UserWarning: Found unknown categories in columns [8, 12, 34, 36] during transform. These unknown categories will be encoded as all zeros\n",
      "  warnings.warn(\n",
      "c:\\Users\\User1\\anaconda3\\Lib\\site-packages\\sklearn\\feature_selection\\_univariate_selection.py:113: RuntimeWarning: divide by zero encountered in divide\n",
      "  f = msb / msw\n",
      "c:\\Users\\User1\\anaconda3\\Lib\\site-packages\\sklearn\\preprocessing\\_encoders.py:241: UserWarning: Found unknown categories in columns [4, 12, 29, 38] during transform. These unknown categories will be encoded as all zeros\n",
      "  warnings.warn(\n",
      "c:\\Users\\User1\\anaconda3\\Lib\\site-packages\\sklearn\\feature_selection\\_univariate_selection.py:113: RuntimeWarning: divide by zero encountered in divide\n",
      "  f = msb / msw\n",
      "c:\\Users\\User1\\anaconda3\\Lib\\site-packages\\sklearn\\preprocessing\\_encoders.py:241: UserWarning: Found unknown categories in columns [12, 20, 28] during transform. These unknown categories will be encoded as all zeros\n",
      "  warnings.warn(\n",
      "c:\\Users\\User1\\anaconda3\\Lib\\site-packages\\sklearn\\feature_selection\\_univariate_selection.py:113: RuntimeWarning: divide by zero encountered in divide\n",
      "  f = msb / msw\n",
      "c:\\Users\\User1\\anaconda3\\Lib\\site-packages\\sklearn\\preprocessing\\_encoders.py:241: UserWarning: Found unknown categories in columns [4, 5, 12, 26, 27, 28, 29, 33] during transform. These unknown categories will be encoded as all zeros\n",
      "  warnings.warn(\n",
      "c:\\Users\\User1\\anaconda3\\Lib\\site-packages\\sklearn\\feature_selection\\_univariate_selection.py:113: RuntimeWarning: divide by zero encountered in divide\n",
      "  f = msb / msw\n",
      "c:\\Users\\User1\\anaconda3\\Lib\\site-packages\\sklearn\\preprocessing\\_encoders.py:241: UserWarning: Found unknown categories in columns [12, 27, 31, 36] during transform. These unknown categories will be encoded as all zeros\n",
      "  warnings.warn(\n",
      "c:\\Users\\User1\\anaconda3\\Lib\\site-packages\\sklearn\\feature_selection\\_univariate_selection.py:113: RuntimeWarning: divide by zero encountered in divide\n",
      "  f = msb / msw\n",
      "c:\\Users\\User1\\anaconda3\\Lib\\site-packages\\sklearn\\preprocessing\\_encoders.py:241: UserWarning: Found unknown categories in columns [8, 12, 34, 36] during transform. These unknown categories will be encoded as all zeros\n",
      "  warnings.warn(\n",
      "c:\\Users\\User1\\anaconda3\\Lib\\site-packages\\sklearn\\feature_selection\\_univariate_selection.py:113: RuntimeWarning: divide by zero encountered in divide\n",
      "  f = msb / msw\n",
      "c:\\Users\\User1\\anaconda3\\Lib\\site-packages\\sklearn\\linear_model\\_coordinate_descent.py:678: ConvergenceWarning: Objective did not converge. You might want to increase the number of iterations, check the scale of the features or consider increasing regularisation. Duality gap: 3.285e+10, tolerance: 6.990e+08\n",
      "  model = cd_fast.enet_coordinate_descent(\n",
      "c:\\Users\\User1\\anaconda3\\Lib\\site-packages\\sklearn\\preprocessing\\_encoders.py:241: UserWarning: Found unknown categories in columns [4, 12, 29, 38] during transform. These unknown categories will be encoded as all zeros\n",
      "  warnings.warn(\n",
      "c:\\Users\\User1\\anaconda3\\Lib\\site-packages\\sklearn\\feature_selection\\_univariate_selection.py:113: RuntimeWarning: divide by zero encountered in divide\n",
      "  f = msb / msw\n",
      "c:\\Users\\User1\\anaconda3\\Lib\\site-packages\\sklearn\\preprocessing\\_encoders.py:241: UserWarning: Found unknown categories in columns [12, 20, 28] during transform. These unknown categories will be encoded as all zeros\n",
      "  warnings.warn(\n",
      "c:\\Users\\User1\\anaconda3\\Lib\\site-packages\\sklearn\\feature_selection\\_univariate_selection.py:113: RuntimeWarning: divide by zero encountered in divide\n",
      "  f = msb / msw\n",
      "c:\\Users\\User1\\anaconda3\\Lib\\site-packages\\sklearn\\preprocessing\\_encoders.py:241: UserWarning: Found unknown categories in columns [4, 5, 12, 26, 27, 28, 29, 33] during transform. These unknown categories will be encoded as all zeros\n",
      "  warnings.warn(\n",
      "c:\\Users\\User1\\anaconda3\\Lib\\site-packages\\sklearn\\feature_selection\\_univariate_selection.py:113: RuntimeWarning: divide by zero encountered in divide\n",
      "  f = msb / msw\n",
      "c:\\Users\\User1\\anaconda3\\Lib\\site-packages\\sklearn\\preprocessing\\_encoders.py:241: UserWarning: Found unknown categories in columns [12, 27, 31, 36] during transform. These unknown categories will be encoded as all zeros\n",
      "  warnings.warn(\n",
      "c:\\Users\\User1\\anaconda3\\Lib\\site-packages\\sklearn\\feature_selection\\_univariate_selection.py:113: RuntimeWarning: divide by zero encountered in divide\n",
      "  f = msb / msw\n",
      "c:\\Users\\User1\\anaconda3\\Lib\\site-packages\\sklearn\\preprocessing\\_encoders.py:241: UserWarning: Found unknown categories in columns [8, 12, 34, 36] during transform. These unknown categories will be encoded as all zeros\n",
      "  warnings.warn(\n",
      "c:\\Users\\User1\\anaconda3\\Lib\\site-packages\\sklearn\\feature_selection\\_univariate_selection.py:113: RuntimeWarning: divide by zero encountered in divide\n",
      "  f = msb / msw\n",
      "c:\\Users\\User1\\anaconda3\\Lib\\site-packages\\sklearn\\preprocessing\\_encoders.py:241: UserWarning: Found unknown categories in columns [4, 12, 29, 38] during transform. These unknown categories will be encoded as all zeros\n",
      "  warnings.warn(\n",
      "c:\\Users\\User1\\anaconda3\\Lib\\site-packages\\sklearn\\feature_selection\\_univariate_selection.py:113: RuntimeWarning: divide by zero encountered in divide\n",
      "  f = msb / msw\n",
      "c:\\Users\\User1\\anaconda3\\Lib\\site-packages\\sklearn\\preprocessing\\_encoders.py:241: UserWarning: Found unknown categories in columns [12, 20, 28] during transform. These unknown categories will be encoded as all zeros\n",
      "  warnings.warn(\n",
      "c:\\Users\\User1\\anaconda3\\Lib\\site-packages\\sklearn\\feature_selection\\_univariate_selection.py:113: RuntimeWarning: divide by zero encountered in divide\n",
      "  f = msb / msw\n",
      "c:\\Users\\User1\\anaconda3\\Lib\\site-packages\\sklearn\\preprocessing\\_encoders.py:241: UserWarning: Found unknown categories in columns [4, 5, 12, 26, 27, 28, 29, 33] during transform. These unknown categories will be encoded as all zeros\n",
      "  warnings.warn(\n",
      "c:\\Users\\User1\\anaconda3\\Lib\\site-packages\\sklearn\\feature_selection\\_univariate_selection.py:113: RuntimeWarning: divide by zero encountered in divide\n",
      "  f = msb / msw\n",
      "c:\\Users\\User1\\anaconda3\\Lib\\site-packages\\sklearn\\preprocessing\\_encoders.py:241: UserWarning: Found unknown categories in columns [12, 27, 31, 36] during transform. These unknown categories will be encoded as all zeros\n",
      "  warnings.warn(\n",
      "c:\\Users\\User1\\anaconda3\\Lib\\site-packages\\sklearn\\feature_selection\\_univariate_selection.py:113: RuntimeWarning: divide by zero encountered in divide\n",
      "  f = msb / msw\n",
      "c:\\Users\\User1\\anaconda3\\Lib\\site-packages\\sklearn\\preprocessing\\_encoders.py:241: UserWarning: Found unknown categories in columns [8, 12, 34, 36] during transform. These unknown categories will be encoded as all zeros\n",
      "  warnings.warn(\n",
      "c:\\Users\\User1\\anaconda3\\Lib\\site-packages\\sklearn\\feature_selection\\_univariate_selection.py:113: RuntimeWarning: divide by zero encountered in divide\n",
      "  f = msb / msw\n",
      "c:\\Users\\User1\\anaconda3\\Lib\\site-packages\\sklearn\\preprocessing\\_encoders.py:241: UserWarning: Found unknown categories in columns [4, 12, 29, 38] during transform. These unknown categories will be encoded as all zeros\n",
      "  warnings.warn(\n",
      "c:\\Users\\User1\\anaconda3\\Lib\\site-packages\\sklearn\\feature_selection\\_univariate_selection.py:113: RuntimeWarning: divide by zero encountered in divide\n",
      "  f = msb / msw\n",
      "c:\\Users\\User1\\anaconda3\\Lib\\site-packages\\sklearn\\preprocessing\\_encoders.py:241: UserWarning: Found unknown categories in columns [12, 20, 28] during transform. These unknown categories will be encoded as all zeros\n",
      "  warnings.warn(\n",
      "c:\\Users\\User1\\anaconda3\\Lib\\site-packages\\sklearn\\feature_selection\\_univariate_selection.py:113: RuntimeWarning: divide by zero encountered in divide\n",
      "  f = msb / msw\n",
      "c:\\Users\\User1\\anaconda3\\Lib\\site-packages\\sklearn\\preprocessing\\_encoders.py:241: UserWarning: Found unknown categories in columns [4, 5, 12, 26, 27, 28, 29, 33] during transform. These unknown categories will be encoded as all zeros\n",
      "  warnings.warn(\n",
      "c:\\Users\\User1\\anaconda3\\Lib\\site-packages\\sklearn\\feature_selection\\_univariate_selection.py:113: RuntimeWarning: divide by zero encountered in divide\n",
      "  f = msb / msw\n"
     ]
    },
    {
     "data": {
      "text/plain": [
       "{'mean_fit_time': array([0.92450652, 0.88574076, 0.84200921, 0.81756368]),\n",
       " 'std_fit_time': array([0.27470538, 0.09404764, 0.14385879, 0.14194987]),\n",
       " 'mean_score_time': array([0.25894227, 0.26645255, 0.23429098, 0.23226199]),\n",
       " 'std_score_time': array([0.05944122, 0.04989727, 0.06256571, 0.10566529]),\n",
       " 'param_lasso__alpha': masked_array(data=[1, 1, 10, 10],\n",
       "              mask=[False, False, False, False],\n",
       "        fill_value='?',\n",
       "             dtype=object),\n",
       " 'param_selectkbest__k': masked_array(data=[40, 70, 40, 70],\n",
       "              mask=[False, False, False, False],\n",
       "        fill_value='?',\n",
       "             dtype=object),\n",
       " 'params': [{'lasso__alpha': 1, 'selectkbest__k': 40},\n",
       "  {'lasso__alpha': 1, 'selectkbest__k': 70},\n",
       "  {'lasso__alpha': 10, 'selectkbest__k': 40},\n",
       "  {'lasso__alpha': 10, 'selectkbest__k': 70}],\n",
       " 'split0_test_score': array([0.79986828, 0.85064227, 0.79993758, 0.85084412]),\n",
       " 'split1_test_score': array([0.75286713, 0.78015659, 0.75282497, 0.78047556]),\n",
       " 'split2_test_score': array([0.62947225, 0.81996158, 0.62977075, 0.82127243]),\n",
       " 'split3_test_score': array([0.76881644, 0.81764161, 0.76884056, 0.81797966]),\n",
       " 'split4_test_score': array([0.67913519, 0.66354566, 0.67923751, 0.66415645]),\n",
       " 'mean_test_score': array([0.72603186, 0.78638954, 0.72612227, 0.78694564]),\n",
       " 'std_test_score': array([0.06249084, 0.06536307, 0.06239933, 0.06533529]),\n",
       " 'rank_test_score': array([4, 2, 3, 1])}"
      ]
     },
     "execution_count": 13,
     "metadata": {},
     "output_type": "execute_result"
    }
   ],
   "source": [
    "pipe = pipe19\n",
    "grid = [{\n",
    "        'lasso__alpha': [1,10],\n",
    "        'selectkbest__k': [40, 70]\n",
    "        }]\n",
    "\n",
    "gscv = GridSearchCV(pipe, grid, cv = 5)\n",
    "gscv.fit(X, y)\n",
    "gscv.cv_results_"
   ]
  },
  {
   "cell_type": "markdown",
   "metadata": {},
   "source": [
    "Print CV-Results:"
   ]
  },
  {
   "cell_type": "code",
   "execution_count": 15,
   "metadata": {},
   "outputs": [
    {
     "data": {
      "text/plain": [
       "[<matplotlib.lines.Line2D at 0x21720a73090>]"
      ]
     },
     "execution_count": 15,
     "metadata": {},
     "output_type": "execute_result"
    },
    {
     "data": {
      "image/png": "[encoded data removed]",
      "text/plain": [
       "<Figure size 640x480 with 1 Axes>"
      ]
     },
     "metadata": {},
     "output_type": "display_data"
    }
   ],
   "source": [
    "stds = gscv.cv_results_['std_test_score']\n",
    "means = gscv.cv_results_['mean_test_score']\n",
    "import matplotlib.pyplot as plt\n",
    "plt.plot(means)\n",
    "plt.plot(stds)"
   ]
  },
  {
   "cell_type": "markdown",
   "metadata": {},
   "source": [
    "## Submission to Kaggle"
   ]
  },
  {
   "cell_type": "code",
   "execution_count": 18,
   "metadata": {},
   "outputs": [],
   "source": [
    "pipe = pipe15\n",
    "pipe.fit(X,y)\n",
    "df_submission = pd.read_csv(\"test.csv\")\n",
    "df_submission = pd.DataFrame({\"Id\": df_submission[\"Id\"],\n",
    "                              \"SalePrice\": pipe.predict(df_submission)})\n",
    "df_submission.to_csv(\"submission.csv\", index = False)"
   ]
  }
 ],
 "metadata": {
  "kernelspec": {
   "display_name": "tf-anaconda-env",
   "language": "python",
   "name": "python3"
  },
  "language_info": {
   "codemirror_mode": {
    "name": "ipython",
    "version": 3
   },
   "file_extension": ".py",
   "mimetype": "text/x-python",
   "name": "python",
   "nbconvert_exporter": "python",
   "pygments_lexer": "ipython3",
   "version": "3.11.7"
  }
 },
 "nbformat": 4,
 "nbformat_minor": 2
}
